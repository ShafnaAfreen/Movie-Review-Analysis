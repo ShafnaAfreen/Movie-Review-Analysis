# Import libraries
from datasets import load_dataset
import matplotlib.pyplot as plt
import pandas as pd

# Load the IMDB dataset
dataset = load_dataset("imdb")
train_data = dataset['train']

print(f"Total training samples: {len(train_data)}\n")

# Show a few sample reviews with their labels
print("Sample reviews:\n")
for i in range(3):
    print(f"Review {i+1}:")
    print(train_data[i]['text'][:500], '...')  # Print first 500 characters
    label = 'Positive' if train_data[i]['label'] == 1 else 'Negative'
    print(f"Label: {label}\n")

# Class distribution in the training set
labels = [example['label'] for example in train_data]
plt.hist(labels, bins=2, edgecolor='black')
plt.xticks([0, 1], ['Negative', 'Positive'])
plt.title("Class Distribution in IMDB Training Set")
plt.xlabel("Sentiment")
plt.ylabel("Count")
plt.show()

# Convert to Pandas DataFrame for easier stats
df_train = pd.DataFrame(train_data)

# Basic statistics: length of reviews
df_train['text_length'] = df_train['text'].apply(lambda x: len(x.split()))
print(f"Average review length (in words): {df_train['text_length'].mean():.2f}")
print(f"Median review length (in words): {df_train['text_length'].median()}")

# Show distribution of review lengths
plt.hist(df_train['text_length'], bins=50, edgecolor='black')
plt.title("Distribution of Review Lengths")
plt.xlabel("Number of words")
plt.ylabel("Number of reviews")
plt.show()

